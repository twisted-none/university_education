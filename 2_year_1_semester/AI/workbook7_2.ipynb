{
  "nbformat": 4,
  "nbformat_minor": 0,
  "metadata": {
    "colab": {
      "provenance": [],
      "gpuType": "T4"
    },
    "kernelspec": {
      "name": "python3",
      "display_name": "Python 3"
    },
    "language_info": {
      "name": "python"
    },
    "accelerator": "GPU"
  },
  "cells": [
    {
      "cell_type": "markdown",
      "source": [
        "#1"
      ],
      "metadata": {
        "id": "ItsgLr1ashA-"
      }
    },
    {
      "cell_type": "markdown",
      "source": [
        "Генерация данных"
      ],
      "metadata": {
        "id": "QR9VlwwjssVa"
      }
    },
    {
      "cell_type": "code",
      "source": [
        "import numpy as np\n",
        "\n",
        "# Генерация случайных данных\n",
        "X = np.random.rand(1000, 20)  # 1000 образцов, 20 признаков\n",
        "y = np.random.randint(2, size=(1000, 1))  # 1000 меток класса (0 или 1)"
      ],
      "metadata": {
        "id": "XJM3qySHslOO"
      },
      "execution_count": null,
      "outputs": []
    },
    {
      "cell_type": "markdown",
      "source": [
        "Создание модели"
      ],
      "metadata": {
        "id": "XauOPZuasv_p"
      }
    },
    {
      "cell_type": "code",
      "source": [
        "from keras.models import Sequential\n",
        "from keras.layers import Dense\n",
        "\n",
        "# Создание модели\n",
        "model = Sequential()\n",
        "model.add(Dense(128, input_dim=20, activation='tanh'))  # Первый слой с 128 нейронами и tanh-активацией\n",
        "model.add(Dense(1, activation='softmax'))  # Выходной слой с softmax-активацией для бинарной классификации\n"
      ],
      "metadata": {
        "id": "eJNiZHgZspLJ"
      },
      "execution_count": null,
      "outputs": []
    },
    {
      "cell_type": "markdown",
      "source": [
        "Компиляция модели"
      ],
      "metadata": {
        "id": "HhvcvfpFszwF"
      }
    },
    {
      "cell_type": "code",
      "source": [
        "model.compile(loss = 'binary_crossentropy', optimizer = 'rmsprop', metrics = ['accuracy'])"
      ],
      "metadata": {
        "id": "g3qSCk-Vs2-5"
      },
      "execution_count": null,
      "outputs": []
    },
    {
      "cell_type": "markdown",
      "source": [
        "Обучение модели"
      ],
      "metadata": {
        "id": "v3_3KxFmtJMr"
      }
    },
    {
      "cell_type": "code",
      "source": [
        "model.fit(X, y, epochs=10, batch_size= 32)"
      ],
      "metadata": {
        "colab": {
          "base_uri": "https://localhost:8080/"
        },
        "id": "JNFaenWVtNa5",
        "outputId": "0038efe6-538c-49b1-ae9f-ff23f2b82830"
      },
      "execution_count": null,
      "outputs": [
        {
          "output_type": "stream",
          "name": "stdout",
          "text": [
            "Epoch 1/10\n"
          ]
        },
        {
          "output_type": "stream",
          "name": "stderr",
          "text": [
            "/usr/local/lib/python3.10/dist-packages/keras/src/ops/nn.py:545: UserWarning: You are using a softmax over axis -1 of a tensor of shape (None, 1). This axis has size 1. The softmax operation will always return the value 1, which is likely not what you intended. Did you mean to use a sigmoid instead?\n",
            "  warnings.warn(\n"
          ]
        },
        {
          "output_type": "stream",
          "name": "stdout",
          "text": [
            "\u001b[1m32/32\u001b[0m \u001b[32m━━━━━━━━━━━━━━━━━━━━\u001b[0m\u001b[37m\u001b[0m \u001b[1m1s\u001b[0m 2ms/step - accuracy: 0.4888 - loss: 0.7055\n",
            "Epoch 2/10\n",
            "\u001b[1m32/32\u001b[0m \u001b[32m━━━━━━━━━━━━━━━━━━━━\u001b[0m\u001b[37m\u001b[0m \u001b[1m0s\u001b[0m 2ms/step - accuracy: 0.4751 - loss: 0.7017\n",
            "Epoch 3/10\n",
            "\u001b[1m32/32\u001b[0m \u001b[32m━━━━━━━━━━━━━━━━━━━━\u001b[0m\u001b[37m\u001b[0m \u001b[1m0s\u001b[0m 3ms/step - accuracy: 0.5106 - loss: 0.6897\n",
            "Epoch 4/10\n",
            "\u001b[1m32/32\u001b[0m \u001b[32m━━━━━━━━━━━━━━━━━━━━\u001b[0m\u001b[37m\u001b[0m \u001b[1m0s\u001b[0m 3ms/step - accuracy: 0.5216 - loss: 0.6900\n",
            "Epoch 5/10\n",
            "\u001b[1m32/32\u001b[0m \u001b[32m━━━━━━━━━━━━━━━━━━━━\u001b[0m\u001b[37m\u001b[0m \u001b[1m0s\u001b[0m 2ms/step - accuracy: 0.5148 - loss: 0.6936\n",
            "Epoch 6/10\n",
            "\u001b[1m32/32\u001b[0m \u001b[32m━━━━━━━━━━━━━━━━━━━━\u001b[0m\u001b[37m\u001b[0m \u001b[1m0s\u001b[0m 3ms/step - accuracy: 0.4885 - loss: 0.6894\n",
            "Epoch 7/10\n",
            "\u001b[1m32/32\u001b[0m \u001b[32m━━━━━━━━━━━━━━━━━━━━\u001b[0m\u001b[37m\u001b[0m \u001b[1m0s\u001b[0m 2ms/step - accuracy: 0.5278 - loss: 0.6893\n",
            "Epoch 8/10\n",
            "\u001b[1m32/32\u001b[0m \u001b[32m━━━━━━━━━━━━━━━━━━━━\u001b[0m\u001b[37m\u001b[0m \u001b[1m0s\u001b[0m 3ms/step - accuracy: 0.4911 - loss: 0.6915\n",
            "Epoch 9/10\n",
            "\u001b[1m32/32\u001b[0m \u001b[32m━━━━━━━━━━━━━━━━━━━━\u001b[0m\u001b[37m\u001b[0m \u001b[1m0s\u001b[0m 2ms/step - accuracy: 0.4933 - loss: 0.6827\n",
            "Epoch 10/10\n",
            "\u001b[1m32/32\u001b[0m \u001b[32m━━━━━━━━━━━━━━━━━━━━\u001b[0m\u001b[37m\u001b[0m \u001b[1m0s\u001b[0m 3ms/step - accuracy: 0.5001 - loss: 0.6860\n"
          ]
        },
        {
          "output_type": "execute_result",
          "data": {
            "text/plain": [
              "<keras.src.callbacks.history.History at 0x793232441db0>"
            ]
          },
          "metadata": {},
          "execution_count": 23
        }
      ]
    },
    {
      "cell_type": "markdown",
      "source": [
        "Оценка модели"
      ],
      "metadata": {
        "id": "1C9PlhZ2tdPk"
      }
    },
    {
      "cell_type": "code",
      "source": [
        "loss, accuracy = model.evaluate(X, y)\n",
        "print(f'Loss: {loss}, Accuracy: {accuracy}')\n"
      ],
      "metadata": {
        "colab": {
          "base_uri": "https://localhost:8080/"
        },
        "id": "HLHc2cBMthyQ",
        "outputId": "43789ae3-a27e-4624-a5c7-00f111e30b9a"
      },
      "execution_count": null,
      "outputs": [
        {
          "output_type": "stream",
          "name": "stdout",
          "text": [
            "\u001b[1m32/32\u001b[0m \u001b[32m━━━━━━━━━━━━━━━━━━━━\u001b[0m\u001b[37m\u001b[0m \u001b[1m0s\u001b[0m 1ms/step - accuracy: 0.5036 - loss: 0.7168  \n",
            "Loss: 0.7182571887969971, Accuracy: 0.5049999952316284\n"
          ]
        }
      ]
    },
    {
      "cell_type": "markdown",
      "source": [
        "# 2"
      ],
      "metadata": {
        "id": "LEDAfPdsuBbj"
      }
    },
    {
      "cell_type": "markdown",
      "source": [
        "Загрузка и продготовка данных"
      ],
      "metadata": {
        "id": "JH6MNi9tusGc"
      }
    },
    {
      "cell_type": "code",
      "source": [
        "from tensorflow.keras import datasets, layers, models\n",
        "\n",
        "# Загрузка данных MNIST\n",
        "(train_images, train_labels), (test_images, test_labels) = datasets.mnist.load_data()\n",
        "\n",
        "# Подготовка данных\n",
        "train_images = train_images.reshape((60000, 28, 28, 1)).astype('float32') / 255\n",
        "test_images = test_images.reshape((10000, 28, 28, 1)).astype('float32') / 255\n"
      ],
      "metadata": {
        "id": "1tI8cgC7uE_t"
      },
      "execution_count": 25,
      "outputs": []
    },
    {
      "cell_type": "markdown",
      "source": [
        "Создание модели"
      ],
      "metadata": {
        "id": "ZoWJIEvYuz_z"
      }
    },
    {
      "cell_type": "code",
      "source": [
        "model = models.Sequential([\n",
        "    layers.Conv2D(32, (3, 3), activation='relu', input_shape=(28, 28, 1)),  # Первый сверточный слой\n",
        "    layers.MaxPooling2D((2, 2)),  # Первый слой подвыборки\n",
        "    layers.Conv2D(64, (3, 3), activation='relu'),  # Второй сверточный слой\n",
        "    layers.MaxPooling2D((2, 2)),  # Второй слой подвыборки\n",
        "    layers.Conv2D(64, (3, 3), activation='relu'),  # Третий сверточный слой\n",
        "    layers.Flatten(),  # Выравнивание\n",
        "    layers.Dense(64, activation='relu'),  # Слой с 64 нейронами\n",
        "    layers.Dense(10, activation='softmax')  # Выходной слой с softmax-активацией для 10 классов\n",
        "])\n"
      ],
      "metadata": {
        "id": "jvqy20e-u4rd"
      },
      "execution_count": 26,
      "outputs": []
    },
    {
      "cell_type": "markdown",
      "source": [
        "Комплияция модели"
      ],
      "metadata": {
        "id": "SZhm6BWOu6_Z"
      }
    },
    {
      "cell_type": "code",
      "source": [
        "model.compile(optimizer='rmsprop',\n",
        "              loss='sparse_categorical_crossentropy',\n",
        "              metrics=['accuracy'])\n"
      ],
      "metadata": {
        "id": "5L1sJ4JdvDns"
      },
      "execution_count": 27,
      "outputs": []
    },
    {
      "cell_type": "markdown",
      "source": [
        "Обучение модели"
      ],
      "metadata": {
        "id": "dpvQpkqzvFHU"
      }
    },
    {
      "cell_type": "code",
      "source": [
        "history = model.fit(train_images, train_labels, epochs=20, batch_size=64, validation_split=0.2)"
      ],
      "metadata": {
        "colab": {
          "base_uri": "https://localhost:8080/"
        },
        "id": "BIX8gxTevH5N",
        "outputId": "4823d9b0-8974-4c7c-cfe7-eb320cc9d653"
      },
      "execution_count": null,
      "outputs": [
        {
          "output_type": "stream",
          "name": "stdout",
          "text": [
            "Epoch 1/20\n",
            "\u001b[1m750/750\u001b[0m \u001b[32m━━━━━━━━━━━━━━━━━━━━\u001b[0m\u001b[37m\u001b[0m \u001b[1m41s\u001b[0m 53ms/step - accuracy: 0.8514 - loss: 0.4762 - val_accuracy: 0.9794 - val_loss: 0.0676\n",
            "Epoch 2/20\n",
            "\u001b[1m750/750\u001b[0m \u001b[32m━━━━━━━━━━━━━━━━━━━━\u001b[0m\u001b[37m\u001b[0m \u001b[1m43s\u001b[0m 55ms/step - accuracy: 0.9811 - loss: 0.0632 - val_accuracy: 0.9863 - val_loss: 0.0482\n",
            "Epoch 3/20\n",
            "\u001b[1m750/750\u001b[0m \u001b[32m━━━━━━━━━━━━━━━━━━━━\u001b[0m\u001b[37m\u001b[0m \u001b[1m80s\u001b[0m 53ms/step - accuracy: 0.9884 - loss: 0.0365 - val_accuracy: 0.9837 - val_loss: 0.0560\n",
            "Epoch 4/20\n",
            "\u001b[1m750/750\u001b[0m \u001b[32m━━━━━━━━━━━━━━━━━━━━\u001b[0m\u001b[37m\u001b[0m \u001b[1m40s\u001b[0m 53ms/step - accuracy: 0.9908 - loss: 0.0292 - val_accuracy: 0.9888 - val_loss: 0.0379\n",
            "Epoch 5/20\n",
            "\u001b[1m750/750\u001b[0m \u001b[32m━━━━━━━━━━━━━━━━━━━━\u001b[0m\u001b[37m\u001b[0m \u001b[1m42s\u001b[0m 54ms/step - accuracy: 0.9935 - loss: 0.0210 - val_accuracy: 0.9893 - val_loss: 0.0431\n",
            "Epoch 6/20\n",
            "\u001b[1m750/750\u001b[0m \u001b[32m━━━━━━━━━━━━━━━━━━━━\u001b[0m\u001b[37m\u001b[0m \u001b[1m39s\u001b[0m 52ms/step - accuracy: 0.9949 - loss: 0.0160 - val_accuracy: 0.9889 - val_loss: 0.0396\n",
            "Epoch 7/20\n",
            "\u001b[1m750/750\u001b[0m \u001b[32m━━━━━━━━━━━━━━━━━━━━\u001b[0m\u001b[37m\u001b[0m \u001b[1m39s\u001b[0m 52ms/step - accuracy: 0.9958 - loss: 0.0136 - val_accuracy: 0.9891 - val_loss: 0.0482\n",
            "Epoch 8/20\n",
            "\u001b[1m750/750\u001b[0m \u001b[32m━━━━━━━━━━━━━━━━━━━━\u001b[0m\u001b[37m\u001b[0m \u001b[1m42s\u001b[0m 53ms/step - accuracy: 0.9972 - loss: 0.0104 - val_accuracy: 0.9902 - val_loss: 0.0423\n",
            "Epoch 9/20\n",
            "\u001b[1m750/750\u001b[0m \u001b[32m━━━━━━━━━━━━━━━━━━━━\u001b[0m\u001b[37m\u001b[0m \u001b[1m41s\u001b[0m 54ms/step - accuracy: 0.9970 - loss: 0.0092 - val_accuracy: 0.9895 - val_loss: 0.0499\n",
            "Epoch 10/20\n",
            "\u001b[1m750/750\u001b[0m \u001b[32m━━━━━━━━━━━━━━━━━━━━\u001b[0m\u001b[37m\u001b[0m \u001b[1m39s\u001b[0m 52ms/step - accuracy: 0.9980 - loss: 0.0067 - val_accuracy: 0.9908 - val_loss: 0.0461\n",
            "Epoch 11/20\n",
            "\u001b[1m750/750\u001b[0m \u001b[32m━━━━━━━━━━━━━━━━━━━━\u001b[0m\u001b[37m\u001b[0m \u001b[1m42s\u001b[0m 53ms/step - accuracy: 0.9986 - loss: 0.0053 - val_accuracy: 0.9917 - val_loss: 0.0444\n",
            "Epoch 12/20\n",
            "\u001b[1m750/750\u001b[0m \u001b[32m━━━━━━━━━━━━━━━━━━━━\u001b[0m\u001b[37m\u001b[0m \u001b[1m42s\u001b[0m 55ms/step - accuracy: 0.9987 - loss: 0.0045 - val_accuracy: 0.9868 - val_loss: 0.0763\n",
            "Epoch 13/20\n",
            "\u001b[1m750/750\u001b[0m \u001b[32m━━━━━━━━━━━━━━━━━━━━\u001b[0m\u001b[37m\u001b[0m \u001b[1m40s\u001b[0m 53ms/step - accuracy: 0.9989 - loss: 0.0040 - val_accuracy: 0.9897 - val_loss: 0.0616\n",
            "Epoch 14/20\n",
            "\u001b[1m750/750\u001b[0m \u001b[32m━━━━━━━━━━━━━━━━━━━━\u001b[0m\u001b[37m\u001b[0m \u001b[1m40s\u001b[0m 53ms/step - accuracy: 0.9993 - loss: 0.0025 - val_accuracy: 0.9911 - val_loss: 0.0571\n",
            "Epoch 15/20\n",
            "\u001b[1m750/750\u001b[0m \u001b[32m━━━━━━━━━━━━━━━━━━━━\u001b[0m\u001b[37m\u001b[0m \u001b[1m41s\u001b[0m 53ms/step - accuracy: 0.9987 - loss: 0.0048 - val_accuracy: 0.9918 - val_loss: 0.0527\n",
            "Epoch 16/20\n",
            "\u001b[1m750/750\u001b[0m \u001b[32m━━━━━━━━━━━━━━━━━━━━\u001b[0m\u001b[37m\u001b[0m \u001b[1m42s\u001b[0m 55ms/step - accuracy: 0.9991 - loss: 0.0027 - val_accuracy: 0.9905 - val_loss: 0.0659\n",
            "Epoch 17/20\n",
            "\u001b[1m750/750\u001b[0m \u001b[32m━━━━━━━━━━━━━━━━━━━━\u001b[0m\u001b[37m\u001b[0m \u001b[1m81s\u001b[0m 54ms/step - accuracy: 0.9987 - loss: 0.0034 - val_accuracy: 0.9908 - val_loss: 0.0646\n",
            "Epoch 18/20\n",
            "\u001b[1m750/750\u001b[0m \u001b[32m━━━━━━━━━━━━━━━━━━━━\u001b[0m\u001b[37m\u001b[0m \u001b[1m40s\u001b[0m 53ms/step - accuracy: 0.9992 - loss: 0.0018 - val_accuracy: 0.9907 - val_loss: 0.0695\n",
            "Epoch 19/20\n",
            "\u001b[1m750/750\u001b[0m \u001b[32m━━━━━━━━━━━━━━━━━━━━\u001b[0m\u001b[37m\u001b[0m \u001b[1m41s\u001b[0m 55ms/step - accuracy: 0.9994 - loss: 0.0023 - val_accuracy: 0.9916 - val_loss: 0.0721\n",
            "Epoch 20/20\n",
            "\u001b[1m750/750\u001b[0m \u001b[32m━━━━━━━━━━━━━━━━━━━━\u001b[0m\u001b[37m\u001b[0m \u001b[1m80s\u001b[0m 53ms/step - accuracy: 0.9995 - loss: 0.0015 - val_accuracy: 0.9908 - val_loss: 0.0729\n"
          ]
        }
      ]
    },
    {
      "cell_type": "markdown",
      "source": [
        "Оценка модели"
      ],
      "metadata": {
        "id": "0xTU1MzuvM2W"
      }
    },
    {
      "cell_type": "code",
      "source": [
        "test_loss, test_acc = model.evaluate(test_images, test_labels)\n",
        "print(f'Test loss: {test_loss}, Test accuracy: {test_acc}')"
      ],
      "metadata": {
        "colab": {
          "base_uri": "https://localhost:8080/"
        },
        "id": "GNAXf4hmvPXY",
        "outputId": "8bab88df-7f42-4c40-fa4a-9ece84f2bdb5"
      },
      "execution_count": null,
      "outputs": [
        {
          "output_type": "stream",
          "name": "stdout",
          "text": [
            "\u001b[1m313/313\u001b[0m \u001b[32m━━━━━━━━━━━━━━━━━━━━\u001b[0m\u001b[37m\u001b[0m \u001b[1m3s\u001b[0m 8ms/step - accuracy: 0.9894 - loss: 0.0691\n",
            "Test loss: 0.04895871505141258, Test accuracy: 0.9922999739646912\n"
          ]
        }
      ]
    },
    {
      "cell_type": "markdown",
      "source": [
        "#3\n"
      ],
      "metadata": {
        "id": "rsXe2yIB0c1_"
      }
    },
    {
      "cell_type": "markdown",
      "source": [
        "Создание модели"
      ],
      "metadata": {
        "id": "Z9g7qbPI0h5_"
      }
    },
    {
      "cell_type": "code",
      "source": [
        "# Импорты\n",
        "from tensorflow.keras.models import Sequential\n",
        "from tensorflow.keras.layers import Conv2D, MaxPooling2D, Flatten, Dense\n",
        "from tensorflow.keras.optimizers import Adam\n",
        "from tensorflow.keras.datasets import mnist\n",
        "model = Sequential()\n",
        "\n",
        "# 1 сверточный слой\n",
        "model.add(Conv2D(32, (3, 3), activation='relu', input_shape=(28, 28, 1)))\n",
        "model.add(MaxPooling2D((2, 2), strides=(1, 1)))\n",
        "\n",
        "# 2 сверточный слой\n",
        "model.add(Conv2D(64, (3, 3), activation='relu'))\n",
        "model.add(MaxPooling2D((2, 2), strides=(1, 1)))\n",
        "\n",
        "# 3 сверточный слой\n",
        "model.add(Conv2D(128, (3, 3), activation='relu'))\n",
        "model.add(MaxPooling2D((2, 2), strides=(1, 1)))\n",
        "\n",
        "# 4 сверточный слой\n",
        "model.add(Conv2D(256, (3, 3), activation='relu'))\n",
        "model.add(MaxPooling2D((2, 2), strides=(1, 1)))\n",
        "\n",
        "# 5 сверточный слой\n",
        "model.add(Conv2D(512, (3, 3), activation='relu'))\n",
        "model.add(MaxPooling2D((2, 2), strides=(1, 1)))\n",
        "\n",
        "# Flatten the output and add Dense layers\n",
        "model.add(Flatten())\n",
        "model.add(Dense(128, activation='relu'))\n",
        "model.add(Dense(10, activation='softmax'))\n",
        "\n",
        "# Компиляция модели\n",
        "optimizer = Adam(learning_rate=0.001)\n",
        "model.compile(optimizer=optimizer, loss='sparse_categorical_crossentropy', metrics=['accuracy'])\n"
      ],
      "metadata": {
        "id": "1yft6__10kBf"
      },
      "execution_count": 7,
      "outputs": []
    },
    {
      "cell_type": "markdown",
      "source": [
        "Обучение"
      ],
      "metadata": {
        "id": "_gNExdtJ0ks3"
      }
    },
    {
      "cell_type": "code",
      "source": [
        "(train_images, train_labels), (test_images, test_labels) = mnist.load_data()\n",
        "train_images = train_images / 255.0\n",
        "test_images = test_images / 255.0\n",
        "train_images = train_images.reshape(train_images.shape[0], 28, 28, 1)\n",
        "test_images = test_images.reshape(test_images.shape[0], 28, 28, 1)\n",
        "\n",
        "# Обучение\n",
        "model.fit(train_images, train_labels, epochs=20, batch_size=64)"
      ],
      "metadata": {
        "colab": {
          "base_uri": "https://localhost:8080/"
        },
        "id": "chdhHfqa0n3A",
        "outputId": "564c4ee9-1943-4232-c5ad-04461cdaffeb"
      },
      "execution_count": 8,
      "outputs": [
        {
          "output_type": "stream",
          "name": "stdout",
          "text": [
            "Epoch 1/20\n",
            "\u001b[1m938/938\u001b[0m \u001b[32m━━━━━━━━━━━━━━━━━━━━\u001b[0m\u001b[37m\u001b[0m \u001b[1m41s\u001b[0m 36ms/step - accuracy: 0.8979 - loss: 0.3129\n",
            "Epoch 2/20\n",
            "\u001b[1m938/938\u001b[0m \u001b[32m━━━━━━━━━━━━━━━━━━━━\u001b[0m\u001b[37m\u001b[0m \u001b[1m32s\u001b[0m 31ms/step - accuracy: 0.9850 - loss: 0.0473\n",
            "Epoch 3/20\n",
            "\u001b[1m938/938\u001b[0m \u001b[32m━━━━━━━━━━━━━━━━━━━━\u001b[0m\u001b[37m\u001b[0m \u001b[1m29s\u001b[0m 31ms/step - accuracy: 0.9888 - loss: 0.0365\n",
            "Epoch 4/20\n",
            "\u001b[1m938/938\u001b[0m \u001b[32m━━━━━━━━━━━━━━━━━━━━\u001b[0m\u001b[37m\u001b[0m \u001b[1m29s\u001b[0m 31ms/step - accuracy: 0.9908 - loss: 0.0287\n",
            "Epoch 5/20\n",
            "\u001b[1m938/938\u001b[0m \u001b[32m━━━━━━━━━━━━━━━━━━━━\u001b[0m\u001b[37m\u001b[0m \u001b[1m29s\u001b[0m 31ms/step - accuracy: 0.9933 - loss: 0.0215\n",
            "Epoch 6/20\n",
            "\u001b[1m938/938\u001b[0m \u001b[32m━━━━━━━━━━━━━━━━━━━━\u001b[0m\u001b[37m\u001b[0m \u001b[1m29s\u001b[0m 30ms/step - accuracy: 0.9942 - loss: 0.0193\n",
            "Epoch 7/20\n",
            "\u001b[1m938/938\u001b[0m \u001b[32m━━━━━━━━━━━━━━━━━━━━\u001b[0m\u001b[37m\u001b[0m \u001b[1m41s\u001b[0m 31ms/step - accuracy: 0.9953 - loss: 0.0151\n",
            "Epoch 8/20\n",
            "\u001b[1m938/938\u001b[0m \u001b[32m━━━━━━━━━━━━━━━━━━━━\u001b[0m\u001b[37m\u001b[0m \u001b[1m41s\u001b[0m 31ms/step - accuracy: 0.9958 - loss: 0.0135\n",
            "Epoch 9/20\n",
            "\u001b[1m938/938\u001b[0m \u001b[32m━━━━━━━━━━━━━━━━━━━━\u001b[0m\u001b[37m\u001b[0m \u001b[1m41s\u001b[0m 30ms/step - accuracy: 0.9950 - loss: 0.0144\n",
            "Epoch 10/20\n",
            "\u001b[1m938/938\u001b[0m \u001b[32m━━━━━━━━━━━━━━━━━━━━\u001b[0m\u001b[37m\u001b[0m \u001b[1m41s\u001b[0m 31ms/step - accuracy: 0.9970 - loss: 0.0097\n",
            "Epoch 11/20\n",
            "\u001b[1m938/938\u001b[0m \u001b[32m━━━━━━━━━━━━━━━━━━━━\u001b[0m\u001b[37m\u001b[0m \u001b[1m41s\u001b[0m 30ms/step - accuracy: 0.9966 - loss: 0.0115\n",
            "Epoch 12/20\n",
            "\u001b[1m938/938\u001b[0m \u001b[32m━━━━━━━━━━━━━━━━━━━━\u001b[0m\u001b[37m\u001b[0m \u001b[1m41s\u001b[0m 30ms/step - accuracy: 0.9970 - loss: 0.0102\n",
            "Epoch 13/20\n",
            "\u001b[1m938/938\u001b[0m \u001b[32m━━━━━━━━━━━━━━━━━━━━\u001b[0m\u001b[37m\u001b[0m \u001b[1m29s\u001b[0m 30ms/step - accuracy: 0.9959 - loss: 0.0128\n",
            "Epoch 14/20\n",
            "\u001b[1m938/938\u001b[0m \u001b[32m━━━━━━━━━━━━━━━━━━━━\u001b[0m\u001b[37m\u001b[0m \u001b[1m41s\u001b[0m 30ms/step - accuracy: 0.9980 - loss: 0.0074\n",
            "Epoch 15/20\n",
            "\u001b[1m938/938\u001b[0m \u001b[32m━━━━━━━━━━━━━━━━━━━━\u001b[0m\u001b[37m\u001b[0m \u001b[1m41s\u001b[0m 31ms/step - accuracy: 0.9974 - loss: 0.0085\n",
            "Epoch 16/20\n",
            "\u001b[1m938/938\u001b[0m \u001b[32m━━━━━━━━━━━━━━━━━━━━\u001b[0m\u001b[37m\u001b[0m \u001b[1m29s\u001b[0m 31ms/step - accuracy: 0.9982 - loss: 0.0058\n",
            "Epoch 17/20\n",
            "\u001b[1m938/938\u001b[0m \u001b[32m━━━━━━━━━━━━━━━━━━━━\u001b[0m\u001b[37m\u001b[0m \u001b[1m42s\u001b[0m 31ms/step - accuracy: 0.9967 - loss: 0.0137\n",
            "Epoch 18/20\n",
            "\u001b[1m938/938\u001b[0m \u001b[32m━━━━━━━━━━━━━━━━━━━━\u001b[0m\u001b[37m\u001b[0m \u001b[1m40s\u001b[0m 31ms/step - accuracy: 0.9986 - loss: 0.0048\n",
            "Epoch 19/20\n",
            "\u001b[1m938/938\u001b[0m \u001b[32m━━━━━━━━━━━━━━━━━━━━\u001b[0m\u001b[37m\u001b[0m \u001b[1m41s\u001b[0m 31ms/step - accuracy: 0.9968 - loss: 0.0115\n",
            "Epoch 20/20\n",
            "\u001b[1m938/938\u001b[0m \u001b[32m━━━━━━━━━━━━━━━━━━━━\u001b[0m\u001b[37m\u001b[0m \u001b[1m41s\u001b[0m 31ms/step - accuracy: 0.9981 - loss: 0.0065\n"
          ]
        },
        {
          "output_type": "execute_result",
          "data": {
            "text/plain": [
              "<keras.src.callbacks.history.History at 0x7872ccc1bb20>"
            ]
          },
          "metadata": {},
          "execution_count": 8
        }
      ]
    },
    {
      "cell_type": "markdown",
      "source": [
        "Оценка модели"
      ],
      "metadata": {
        "id": "-1hUCKBk0pyM"
      }
    },
    {
      "cell_type": "code",
      "source": [
        "test_loss, test_acc = model.evaluate(test_images, test_labels)\n",
        "print(f'Test accuracy: {test_acc:.3f}')\n"
      ],
      "metadata": {
        "colab": {
          "base_uri": "https://localhost:8080/"
        },
        "id": "YvVqVPfV0sjF",
        "outputId": "95403f00-5420-4342-f832-a4949d7567da"
      },
      "execution_count": null,
      "outputs": [
        {
          "output_type": "stream",
          "name": "stdout",
          "text": [
            "\u001b[1m313/313\u001b[0m \u001b[32m━━━━━━━━━━━━━━━━━━━━\u001b[0m\u001b[37m\u001b[0m \u001b[1m3s\u001b[0m 8ms/step - accuracy: 0.9887 - loss: 0.0797\n",
            "Test accuracy: 0.992\n"
          ]
        }
      ]
    },
    {
      "cell_type": "markdown",
      "source": [
        "#4"
      ],
      "metadata": {
        "id": "yDWY-nqNRVJI"
      }
    },
    {
      "cell_type": "code",
      "source": [
        "import numpy as np\n",
        "from keras.datasets import cifar10\n",
        "from keras.models import Sequential\n",
        "from keras.layers import Dense, Flatten, Activation, Dropout\n",
        "from tensorflow.keras.layers import Conv2D, MaxPooling2D\n",
        "from keras.utils import to_categorical\n",
        "from keras.optimizers import SGD\n",
        "import matplotlib.pyplot as plt\n",
        "\n",
        "# Set seed for reproducibility\n",
        "np.random.seed(42)\n",
        "\n",
        "# Load CIFAR-10 data\n",
        "(X_train, y_train), (X_test, y_test) = cifar10.load_data()\n",
        "class_names = ['airplane', 'automobile', 'bird', 'cat', 'deer', 'dog', 'frog', 'horse', 'ship', 'truck']\n",
        "\n",
        "# Normalize the data\n",
        "X_train = X_train.astype('float32') / 255\n",
        "X_test = X_test.astype('float32') / 255\n",
        "\n",
        "# Convert class vectors to binary class matrices\n",
        "y_train = to_categorical(y_train, 10)\n",
        "y_test = to_categorical(y_test, 10)\n",
        "\n",
        "# Define the model\n",
        "model = Sequential()\n",
        "\n",
        "# First convolutional layer\n",
        "model.add(Conv2D(64, (3, 3), padding='same', activation='relu', input_shape=(32, 32, 3)))\n",
        "model.add(MaxPooling2D(pool_size=(2, 2)))\n",
        "model.add(Dropout(0.25))\n",
        "\n",
        "# Second convolutional layer\n",
        "model.add(Conv2D(128, (3, 3), activation='relu'))\n",
        "model.add(MaxPooling2D(pool_size=(2, 2)))\n",
        "model.add(Dropout(0.25))\n",
        "\n",
        "# Third convolutional layer\n",
        "model.add(Conv2D(256, (3, 3), activation='relu'))\n",
        "model.add(MaxPooling2D(pool_size=(2, 2)))\n",
        "model.add(Dropout(0.25))\n",
        "\n",
        "# Flatten and fully connected layers\n",
        "model.add(Flatten())\n",
        "model.add(Dense(512, activation='relu'))\n",
        "model.add(Dropout(0.5))\n",
        "model.add(Dense(256, activation='relu'))\n",
        "model.add(Dropout(0.5))\n",
        "\n",
        "# Output layer\n",
        "model.add(Dense(10, activation='softmax'))\n",
        "\n",
        "# Compile the model\n",
        "sgd = SGD(learning_rate=0.01, decay=1e-6, momentum=0.9, nesterov=True)\n",
        "model.compile(loss='categorical_crossentropy', optimizer=sgd, metrics=['accuracy'])\n",
        "\n",
        "# Train the model\n",
        "history = model.fit(X_train, y_train, batch_size=64, epochs=50, validation_split=0.1, shuffle=True, verbose=2)\n",
        "\n",
        "# Evaluate the model\n",
        "scores = model.evaluate(X_test, y_test, verbose=0)\n",
        "print(f\"Test accuracy: {scores[1] * 100:.2f}%\")\n",
        "\n",
        "# Plot the history for accuracy and loss\n",
        "plt.figure(figsize=(12, 5))\n",
        "\n",
        "plt.subplot(1, 2, 1)\n",
        "plt.plot(history.history['accuracy'], label='Training Accuracy')\n",
        "plt.plot(history.history['val_accuracy'], label='Validation Accuracy')\n",
        "plt.title('Model Accuracy')\n",
        "plt.xlabel('Epoch')\n",
        "plt.ylabel('Accuracy')\n",
        "plt.legend(loc='upper left')\n",
        "\n",
        "plt.subplot(1, 2, 2)\n",
        "plt.plot(history.history['loss'], label='Training Loss')\n",
        "plt.plot(history.history['val_loss'], label='Validation Loss')\n",
        "plt.title('Model Loss')\n",
        "plt.xlabel('Epoch')\n",
        "plt.ylabel('Loss')\n",
        "plt.legend(loc='upper left')\n",
        "\n",
        "plt.show()\n",
        "\n",
        "# Train the model on the full dataset without validation split\n",
        "model.fit(X_train, y_train, batch_size=64, epochs=50, shuffle=True, verbose=2)\n"
      ],
      "metadata": {
        "colab": {
          "base_uri": "https://localhost:8080/",
          "height": 1000
        },
        "id": "BvLKYDBQOiJA",
        "outputId": "3ec454da-a6fc-4c20-b8b3-97ad3fdee00c"
      },
      "execution_count": 3,
      "outputs": [
        {
          "output_type": "stream",
          "name": "stdout",
          "text": [
            "Downloading data from https://www.cs.toronto.edu/~kriz/cifar-10-python.tar.gz\n",
            "\u001b[1m170498071/170498071\u001b[0m \u001b[32m━━━━━━━━━━━━━━━━━━━━\u001b[0m\u001b[37m\u001b[0m \u001b[1m13s\u001b[0m 0us/step\n"
          ]
        },
        {
          "output_type": "stream",
          "name": "stderr",
          "text": [
            "/usr/local/lib/python3.10/dist-packages/keras/src/layers/convolutional/base_conv.py:107: UserWarning: Do not pass an `input_shape`/`input_dim` argument to a layer. When using Sequential models, prefer using an `Input(shape)` object as the first layer in the model instead.\n",
            "  super().__init__(activity_regularizer=activity_regularizer, **kwargs)\n",
            "/usr/local/lib/python3.10/dist-packages/keras/src/optimizers/base_optimizer.py:33: UserWarning: Argument `decay` is no longer supported and will be ignored.\n",
            "  warnings.warn(\n"
          ]
        },
        {
          "output_type": "stream",
          "name": "stdout",
          "text": [
            "Epoch 1/50\n",
            "704/704 - 16s - 23ms/step - accuracy: 0.2231 - loss: 2.0423 - val_accuracy: 0.3104 - val_loss: 1.9306\n",
            "Epoch 2/50\n",
            "704/704 - 4s - 6ms/step - accuracy: 0.3820 - loss: 1.6633 - val_accuracy: 0.3822 - val_loss: 1.6613\n",
            "Epoch 3/50\n",
            "704/704 - 5s - 7ms/step - accuracy: 0.4656 - loss: 1.4695 - val_accuracy: 0.5440 - val_loss: 1.3032\n",
            "Epoch 4/50\n",
            "704/704 - 5s - 8ms/step - accuracy: 0.5130 - loss: 1.3514 - val_accuracy: 0.5306 - val_loss: 1.3330\n",
            "Epoch 5/50\n",
            "704/704 - 4s - 5ms/step - accuracy: 0.5502 - loss: 1.2603 - val_accuracy: 0.6014 - val_loss: 1.0981\n",
            "Epoch 6/50\n",
            "704/704 - 4s - 5ms/step - accuracy: 0.5788 - loss: 1.1840 - val_accuracy: 0.5322 - val_loss: 1.4263\n",
            "Epoch 7/50\n",
            "704/704 - 5s - 8ms/step - accuracy: 0.5967 - loss: 1.1364 - val_accuracy: 0.6352 - val_loss: 1.0811\n",
            "Epoch 8/50\n",
            "704/704 - 4s - 6ms/step - accuracy: 0.6251 - loss: 1.0704 - val_accuracy: 0.6336 - val_loss: 1.0173\n",
            "Epoch 9/50\n",
            "704/704 - 4s - 5ms/step - accuracy: 0.6395 - loss: 1.0287 - val_accuracy: 0.6486 - val_loss: 1.0283\n",
            "Epoch 10/50\n",
            "704/704 - 4s - 5ms/step - accuracy: 0.6576 - loss: 0.9885 - val_accuracy: 0.7100 - val_loss: 0.8433\n",
            "Epoch 11/50\n",
            "704/704 - 4s - 5ms/step - accuracy: 0.6725 - loss: 0.9518 - val_accuracy: 0.6774 - val_loss: 0.9312\n",
            "Epoch 12/50\n",
            "704/704 - 5s - 7ms/step - accuracy: 0.6840 - loss: 0.9148 - val_accuracy: 0.6830 - val_loss: 0.8989\n",
            "Epoch 13/50\n",
            "704/704 - 5s - 8ms/step - accuracy: 0.6940 - loss: 0.8858 - val_accuracy: 0.7210 - val_loss: 0.8278\n",
            "Epoch 14/50\n",
            "704/704 - 5s - 7ms/step - accuracy: 0.7044 - loss: 0.8604 - val_accuracy: 0.7378 - val_loss: 0.7745\n",
            "Epoch 15/50\n",
            "704/704 - 5s - 7ms/step - accuracy: 0.7125 - loss: 0.8321 - val_accuracy: 0.7150 - val_loss: 0.8246\n",
            "Epoch 16/50\n",
            "704/704 - 5s - 7ms/step - accuracy: 0.7213 - loss: 0.8156 - val_accuracy: 0.7184 - val_loss: 0.8239\n",
            "Epoch 17/50\n",
            "704/704 - 4s - 5ms/step - accuracy: 0.7252 - loss: 0.7928 - val_accuracy: 0.7506 - val_loss: 0.7201\n",
            "Epoch 18/50\n",
            "704/704 - 4s - 5ms/step - accuracy: 0.7350 - loss: 0.7734 - val_accuracy: 0.7462 - val_loss: 0.7262\n",
            "Epoch 19/50\n",
            "704/704 - 4s - 6ms/step - accuracy: 0.7422 - loss: 0.7520 - val_accuracy: 0.7386 - val_loss: 0.7597\n",
            "Epoch 20/50\n",
            "704/704 - 4s - 5ms/step - accuracy: 0.7481 - loss: 0.7345 - val_accuracy: 0.7722 - val_loss: 0.6807\n",
            "Epoch 21/50\n",
            "704/704 - 4s - 5ms/step - accuracy: 0.7495 - loss: 0.7249 - val_accuracy: 0.7718 - val_loss: 0.6657\n",
            "Epoch 22/50\n",
            "704/704 - 4s - 6ms/step - accuracy: 0.7581 - loss: 0.7083 - val_accuracy: 0.7818 - val_loss: 0.6489\n",
            "Epoch 23/50\n",
            "704/704 - 5s - 7ms/step - accuracy: 0.7609 - loss: 0.6951 - val_accuracy: 0.7678 - val_loss: 0.7030\n",
            "Epoch 24/50\n",
            "704/704 - 5s - 7ms/step - accuracy: 0.7680 - loss: 0.6792 - val_accuracy: 0.7634 - val_loss: 0.6808\n",
            "Epoch 25/50\n",
            "704/704 - 4s - 6ms/step - accuracy: 0.7710 - loss: 0.6691 - val_accuracy: 0.7836 - val_loss: 0.6459\n",
            "Epoch 26/50\n",
            "704/704 - 4s - 5ms/step - accuracy: 0.7732 - loss: 0.6596 - val_accuracy: 0.7560 - val_loss: 0.7177\n",
            "Epoch 27/50\n",
            "704/704 - 4s - 5ms/step - accuracy: 0.7800 - loss: 0.6480 - val_accuracy: 0.7778 - val_loss: 0.6512\n",
            "Epoch 28/50\n",
            "704/704 - 5s - 7ms/step - accuracy: 0.7813 - loss: 0.6390 - val_accuracy: 0.7930 - val_loss: 0.6134\n",
            "Epoch 29/50\n",
            "704/704 - 5s - 7ms/step - accuracy: 0.7844 - loss: 0.6237 - val_accuracy: 0.7940 - val_loss: 0.6137\n",
            "Epoch 30/50\n",
            "704/704 - 5s - 8ms/step - accuracy: 0.7897 - loss: 0.6123 - val_accuracy: 0.7768 - val_loss: 0.6499\n",
            "Epoch 31/50\n",
            "704/704 - 4s - 5ms/step - accuracy: 0.7906 - loss: 0.6083 - val_accuracy: 0.7654 - val_loss: 0.6942\n",
            "Epoch 32/50\n",
            "704/704 - 5s - 7ms/step - accuracy: 0.7926 - loss: 0.6080 - val_accuracy: 0.7826 - val_loss: 0.6541\n",
            "Epoch 33/50\n",
            "704/704 - 5s - 8ms/step - accuracy: 0.7986 - loss: 0.5854 - val_accuracy: 0.7806 - val_loss: 0.6380\n",
            "Epoch 34/50\n",
            "704/704 - 4s - 5ms/step - accuracy: 0.8029 - loss: 0.5779 - val_accuracy: 0.7904 - val_loss: 0.6242\n",
            "Epoch 35/50\n",
            "704/704 - 5s - 7ms/step - accuracy: 0.8008 - loss: 0.5748 - val_accuracy: 0.7930 - val_loss: 0.6128\n",
            "Epoch 36/50\n",
            "704/704 - 5s - 7ms/step - accuracy: 0.8074 - loss: 0.5624 - val_accuracy: 0.8002 - val_loss: 0.5974\n",
            "Epoch 37/50\n",
            "704/704 - 4s - 5ms/step - accuracy: 0.8092 - loss: 0.5576 - val_accuracy: 0.7954 - val_loss: 0.6290\n",
            "Epoch 38/50\n",
            "704/704 - 6s - 8ms/step - accuracy: 0.8066 - loss: 0.5572 - val_accuracy: 0.8012 - val_loss: 0.5972\n",
            "Epoch 39/50\n",
            "704/704 - 5s - 7ms/step - accuracy: 0.8125 - loss: 0.5475 - val_accuracy: 0.7964 - val_loss: 0.6239\n",
            "Epoch 40/50\n",
            "704/704 - 4s - 5ms/step - accuracy: 0.8110 - loss: 0.5485 - val_accuracy: 0.7972 - val_loss: 0.6152\n",
            "Epoch 41/50\n",
            "704/704 - 4s - 6ms/step - accuracy: 0.8192 - loss: 0.5301 - val_accuracy: 0.7982 - val_loss: 0.5982\n",
            "Epoch 42/50\n",
            "704/704 - 4s - 5ms/step - accuracy: 0.8167 - loss: 0.5326 - val_accuracy: 0.7968 - val_loss: 0.5990\n",
            "Epoch 43/50\n",
            "704/704 - 4s - 5ms/step - accuracy: 0.8194 - loss: 0.5220 - val_accuracy: 0.7850 - val_loss: 0.6501\n",
            "Epoch 44/50\n",
            "704/704 - 4s - 6ms/step - accuracy: 0.8204 - loss: 0.5200 - val_accuracy: 0.8046 - val_loss: 0.5895\n",
            "Epoch 45/50\n",
            "704/704 - 4s - 6ms/step - accuracy: 0.8256 - loss: 0.5066 - val_accuracy: 0.7942 - val_loss: 0.6394\n",
            "Epoch 46/50\n",
            "704/704 - 4s - 5ms/step - accuracy: 0.8259 - loss: 0.5068 - val_accuracy: 0.7870 - val_loss: 0.6483\n",
            "Epoch 47/50\n",
            "704/704 - 5s - 8ms/step - accuracy: 0.8267 - loss: 0.5028 - val_accuracy: 0.7982 - val_loss: 0.6004\n",
            "Epoch 48/50\n",
            "704/704 - 5s - 7ms/step - accuracy: 0.8291 - loss: 0.4921 - val_accuracy: 0.8068 - val_loss: 0.5883\n",
            "Epoch 49/50\n",
            "704/704 - 5s - 7ms/step - accuracy: 0.8284 - loss: 0.4947 - val_accuracy: 0.7796 - val_loss: 0.6598\n",
            "Epoch 50/50\n",
            "704/704 - 4s - 6ms/step - accuracy: 0.8331 - loss: 0.4879 - val_accuracy: 0.7902 - val_loss: 0.6407\n",
            "Test accuracy: 78.19%\n"
          ]
        },
        {
          "output_type": "display_data",
          "data": {
            "text/plain": [
              "<Figure size 1200x500 with 2 Axes>"
            ],
            "image/png": "[encoded data removed]"
          },
          "metadata": {}
        },
        {
          "output_type": "stream",
          "name": "stdout",
          "text": [
            "Epoch 1/50\n",
            "782/782 - 8s - 10ms/step - accuracy: 0.8235 - loss: 0.5255\n",
            "Epoch 2/50\n",
            "782/782 - 6s - 8ms/step - accuracy: 0.8234 - loss: 0.5165\n",
            "Epoch 3/50\n",
            "782/782 - 5s - 7ms/step - accuracy: 0.8262 - loss: 0.5128\n",
            "Epoch 4/50\n",
            "782/782 - 4s - 5ms/step - accuracy: 0.8290 - loss: 0.5049\n",
            "Epoch 5/50\n",
            "782/782 - 4s - 5ms/step - accuracy: 0.8322 - loss: 0.4927\n",
            "Epoch 6/50\n",
            "782/782 - 4s - 5ms/step - accuracy: 0.8314 - loss: 0.4964\n",
            "Epoch 7/50\n",
            "782/782 - 5s - 6ms/step - accuracy: 0.8324 - loss: 0.4909\n",
            "Epoch 8/50\n",
            "782/782 - 5s - 7ms/step - accuracy: 0.8371 - loss: 0.4821\n",
            "Epoch 9/50\n",
            "782/782 - 4s - 5ms/step - accuracy: 0.8358 - loss: 0.4822\n",
            "Epoch 10/50\n",
            "782/782 - 4s - 5ms/step - accuracy: 0.8364 - loss: 0.4832\n",
            "Epoch 11/50\n",
            "782/782 - 5s - 7ms/step - accuracy: 0.8410 - loss: 0.4687\n",
            "Epoch 12/50\n",
            "782/782 - 4s - 5ms/step - accuracy: 0.8397 - loss: 0.4701\n",
            "Epoch 13/50\n",
            "782/782 - 5s - 6ms/step - accuracy: 0.8411 - loss: 0.4658\n",
            "Epoch 14/50\n",
            "782/782 - 4s - 5ms/step - accuracy: 0.8430 - loss: 0.4606\n",
            "Epoch 15/50\n",
            "782/782 - 5s - 7ms/step - accuracy: 0.8461 - loss: 0.4493\n",
            "Epoch 16/50\n",
            "782/782 - 4s - 5ms/step - accuracy: 0.8476 - loss: 0.4522\n",
            "Epoch 17/50\n",
            "782/782 - 5s - 7ms/step - accuracy: 0.8477 - loss: 0.4509\n",
            "Epoch 18/50\n",
            "782/782 - 5s - 6ms/step - accuracy: 0.8492 - loss: 0.4430\n",
            "Epoch 19/50\n",
            "782/782 - 4s - 5ms/step - accuracy: 0.8490 - loss: 0.4421\n",
            "Epoch 20/50\n",
            "782/782 - 4s - 5ms/step - accuracy: 0.8511 - loss: 0.4390\n",
            "Epoch 21/50\n",
            "782/782 - 4s - 5ms/step - accuracy: 0.8525 - loss: 0.4356\n",
            "Epoch 22/50\n",
            "782/782 - 4s - 5ms/step - accuracy: 0.8516 - loss: 0.4392\n",
            "Epoch 23/50\n",
            "782/782 - 5s - 7ms/step - accuracy: 0.8496 - loss: 0.4383\n",
            "Epoch 24/50\n",
            "782/782 - 5s - 6ms/step - accuracy: 0.8517 - loss: 0.4364\n",
            "Epoch 25/50\n",
            "782/782 - 5s - 7ms/step - accuracy: 0.8523 - loss: 0.4297\n",
            "Epoch 26/50\n",
            "782/782 - 4s - 5ms/step - accuracy: 0.8568 - loss: 0.4219\n",
            "Epoch 27/50\n",
            "782/782 - 4s - 5ms/step - accuracy: 0.8563 - loss: 0.4249\n",
            "Epoch 28/50\n",
            "782/782 - 4s - 5ms/step - accuracy: 0.8544 - loss: 0.4286\n",
            "Epoch 29/50\n",
            "782/782 - 5s - 7ms/step - accuracy: 0.8583 - loss: 0.4209\n",
            "Epoch 30/50\n",
            "782/782 - 5s - 6ms/step - accuracy: 0.8613 - loss: 0.4126\n",
            "Epoch 31/50\n",
            "782/782 - 5s - 7ms/step - accuracy: 0.8559 - loss: 0.4218\n",
            "Epoch 32/50\n",
            "782/782 - 4s - 5ms/step - accuracy: 0.8612 - loss: 0.4094\n",
            "Epoch 33/50\n",
            "782/782 - 4s - 5ms/step - accuracy: 0.8619 - loss: 0.4044\n",
            "Epoch 34/50\n",
            "782/782 - 4s - 5ms/step - accuracy: 0.8632 - loss: 0.4050\n",
            "Epoch 35/50\n",
            "782/782 - 5s - 6ms/step - accuracy: 0.8608 - loss: 0.4097\n",
            "Epoch 36/50\n",
            "782/782 - 5s - 7ms/step - accuracy: 0.8627 - loss: 0.4030\n",
            "Epoch 37/50\n",
            "782/782 - 4s - 5ms/step - accuracy: 0.8649 - loss: 0.4000\n",
            "Epoch 38/50\n",
            "782/782 - 5s - 6ms/step - accuracy: 0.8632 - loss: 0.4007\n",
            "Epoch 39/50\n",
            "782/782 - 4s - 5ms/step - accuracy: 0.8665 - loss: 0.4010\n",
            "Epoch 40/50\n",
            "782/782 - 5s - 7ms/step - accuracy: 0.8658 - loss: 0.3950\n",
            "Epoch 41/50\n",
            "782/782 - 4s - 5ms/step - accuracy: 0.8680 - loss: 0.3910\n",
            "Epoch 42/50\n",
            "782/782 - 5s - 7ms/step - accuracy: 0.8665 - loss: 0.3911\n",
            "Epoch 43/50\n",
            "782/782 - 5s - 6ms/step - accuracy: 0.8661 - loss: 0.3929\n",
            "Epoch 44/50\n",
            "782/782 - 4s - 5ms/step - accuracy: 0.8679 - loss: 0.3897\n",
            "Epoch 45/50\n",
            "782/782 - 4s - 5ms/step - accuracy: 0.8673 - loss: 0.3889\n",
            "Epoch 46/50\n",
            "782/782 - 4s - 5ms/step - accuracy: 0.8702 - loss: 0.3838\n",
            "Epoch 47/50\n",
            "782/782 - 4s - 5ms/step - accuracy: 0.8704 - loss: 0.3840\n",
            "Epoch 48/50\n",
            "782/782 - 4s - 5ms/step - accuracy: 0.8711 - loss: 0.3866\n",
            "Epoch 49/50\n",
            "782/782 - 5s - 6ms/step - accuracy: 0.8708 - loss: 0.3852\n",
            "Epoch 50/50\n",
            "782/782 - 4s - 5ms/step - accuracy: 0.8710 - loss: 0.3828\n"
          ]
        },
        {
          "output_type": "execute_result",
          "data": {
            "text/plain": [
              "<keras.src.callbacks.history.History at 0x7872cd1cf3d0>"
            ]
          },
          "metadata": {},
          "execution_count": 3
        }
      ]
    }
  ]
}