{
  "cells": [
    {
      "cell_type": "markdown",
      "source": [
        "Нейронные сети базируются на определенных алгоритмах и математических функциях. Сначала может казаться, что разобраться в них довольно сложно. Но существуют готовые библиотеки машинного обучения для построения и тренировки нейросетей, позволяющие не углубляться в их устройство.\n",
        "\n",
        "\n",
        "### Задание\n",
        "\n",
        "`\n",
        "Реализовать классы нейросетей по аналогии с классом OurNeuralNetwork. Данные нейросети:\n",
        "\tтри входа (x_1,x_2,x_3 );\n",
        "\tтри нейрона в скрытых слоях (h_1,h_2,h_3);\n",
        "\tвыход (o_1).\n",
        "Нейроны имеют идентичные веса и пороги:\n",
        "\tw = [0.5,0.5,0.5]\n",
        "\tb = 0\n",
        "Данные нейросети:\n",
        "\tдва входа (x_1,x_2);\n",
        "\tдва нейрона в скрытых слоях (h_1,h_2);\n",
        "\tдва выхода (o_1,o_2 ).\n",
        "Нейроны имеют идентичные веса и пороги:\n",
        "\tw = [1,0];\n",
        "\tb = 1.\n",
        "`"
      ],
      "metadata": {
        "collapsed": false,
        "id": "ExP4IliXGkGc"
      }
    },
    {
      "cell_type": "code",
      "execution_count": null,
      "outputs": [
        {
          "output_type": "stream",
          "name": "stdout",
          "text": [
            "0.8151036049051821\n"
          ]
        }
      ],
      "source": [
        "import numpy as np\n",
        "class OurNeuralNetwork:\n",
        "\n",
        "    def __init__(self):\n",
        "        weights = np.array([0.5,0.5, 0.5])\n",
        "        bias = 0\n",
        "        self.h1 = Neuron(weights,bias)\n",
        "        self.h2 = Neuron(weights,bias)\n",
        "        self.h3 = Neuron(weights,bias)\n",
        "        self.o1 = Neuron(weights,bias)\n",
        "    def feedforward(self,x):\n",
        "        out_h1 = self.h1.feedforward(x)\n",
        "        out_h2 = self.h2.feedforward(x)\n",
        "        out_h3 = self.h3.feedforward(x)\n",
        "        out_o1 = self.o1.feedforward(np.array([out_h1, out_h2, out_h3]))\n",
        "        return out_o1\n",
        "network = OurNeuralNetwork()\n",
        "x = np.array([2,3,4])\n",
        "print(network.feedforward(x))\n"
      ],
      "metadata": {
        "pycharm": {
          "name": "#%%\n"
        },
        "colab": {
          "base_uri": "https://localhost:8080/"
        },
        "id": "5ZgNTz3jGkGc",
        "outputId": "53a7ef1e-55b1-4b6c-8c01-2e8e529ec5ee"
      }
    },
    {
      "cell_type": "markdown",
      "source": [
        "### Задание:\n",
        "\n",
        "Реализуйте классы нейронных сетей с использованием других функций активации.\n",
        "\n",
        "<div align=\"сenter\">\n",
        "<img src=\"https://sun1.userapi.com/sun1-21/s/v1/if2/JMA4e7_VY474gCimZqC7lhi0KEc60PwPyruh0FnYrFWaVLB-1HpC9uc1-4RKPMAgaivt3cJyxGT9sJUY-A8x52dW.jpg?size=549x576&quality=96&type=album\" align=\"сenter\" style=\"width:40%\"\n",
        "</div>\n"
      ],
      "metadata": {
        "collapsed": false,
        "pycharm": {
          "name": "#%% md\n"
        },
        "id": "lHEy1CIJGkGd"
      }
    },
    {
      "cell_type": "code",
      "execution_count": null,
      "outputs": [
        {
          "output_type": "stream",
          "name": "stdout",
          "text": [
            "0.9990889488055994\n"
          ]
        }
      ],
      "source": [
        "import numpy as np\n",
        "def sigmoid(x):\n",
        "    return 1/(1+np.exp(-x))\n",
        "class Neuron:\n",
        "    def __init__(self,weights, bias):\n",
        "        self.weights = weights\n",
        "        self.bias = bias\n",
        "    def feedforward(self,inputs):\n",
        "        total = np.dot(self.weights, inputs) + self.bias\n",
        "        return sigmoid(total)\n",
        "weights = np.array([0, 1])\n",
        "bias = 4\n",
        "n = Neuron(weights, bias)\n",
        "x = np.array([2,3])\n",
        "print(n.feedforward(x))"
      ],
      "metadata": {
        "pycharm": {
          "name": "#%%\n"
        },
        "colab": {
          "base_uri": "https://localhost:8080/"
        },
        "id": "JoKo91s3GkGd",
        "outputId": "3afc37a9-5d30-4e6a-e16e-85db52bac526"
      }
    },
    {
      "cell_type": "code",
      "execution_count": null,
      "outputs": [
        {
          "output_type": "stream",
          "name": "stdout",
          "text": [
            "0.9999983369439447\n"
          ]
        }
      ],
      "source": [
        "import numpy as np\n",
        "def tanh(x):\n",
        "    return np.tanh(x)\n",
        "class Neuron:\n",
        "    def __init__(self,weights, bias):\n",
        "        self.weights = weights\n",
        "        self.bias = bias\n",
        "    def feedforward(self,inputs):\n",
        "        total = np.dot(self.weights, inputs) + self.bias\n",
        "        return tanh(total)\n",
        "weights = np.array([0, 1])\n",
        "bias = 4\n",
        "n = Neuron(weights, bias)\n",
        "x = np.array([2,3])\n",
        "print(n.feedforward(x))"
      ],
      "metadata": {
        "pycharm": {
          "name": "#%%\n"
        },
        "colab": {
          "base_uri": "https://localhost:8080/"
        },
        "id": "d59K789ZGkGd",
        "outputId": "74bea2de-7e43-4ebe-b2d7-2dcf35c5ef10"
      }
    },
    {
      "cell_type": "code",
      "execution_count": null,
      "outputs": [
        {
          "output_type": "stream",
          "name": "stdout",
          "text": [
            "7\n"
          ]
        }
      ],
      "source": [
        "import numpy as np\n",
        "def ReLu(x):\n",
        "    return max(0,x)\n",
        "class Neuron:\n",
        "    def __init__(self,weights, bias):\n",
        "        self.weights = weights\n",
        "        self.bias = bias\n",
        "    def feedforward(self,inputs):\n",
        "        total = np.dot(self.weights, inputs) + self.bias\n",
        "        return ReLu(total)\n",
        "weights = np.array([0, 1])\n",
        "bias = 4\n",
        "n = Neuron(weights, bias)\n",
        "x = np.array([2,3])\n",
        "print(n.feedforward(x))\n"
      ],
      "metadata": {
        "pycharm": {
          "name": "#%%\n"
        },
        "colab": {
          "base_uri": "https://localhost:8080/"
        },
        "id": "vsdTcSLsGkGd",
        "outputId": "483b0134-d4cc-4dd1-a224-21ea83a24937"
      }
    },
    {
      "cell_type": "markdown",
      "source": [
        "### 1.2.1 Задание\n",
        "Используйте классы MLPClassified и MLPRegressor для классификации и\n",
        "регрессии произвольных данных из интернета. Проведите анализ\n",
        "атрибуты, полученных моделей.\n",
        "\n",
        "Для классификации можете взять набор данных Ирисов:\n",
        "https://gist.githubusercontent.com/netj/8836201/raw/6f9306ad21398ea43cba4f7d537619d0e07d5ae3/iris.csv\n",
        "\n",
        "а для регрессии датасет зависимости заработной платы от опыта работы:\n",
        "https://raw.githubusercontent.com/AnnaShestova/salary-years-simple-linear-regression/master/Salary_Data.csv\n"
      ],
      "metadata": {
        "collapsed": false,
        "pycharm": {
          "name": "#%% md\n"
        },
        "id": "PdF_E1lSGkGj"
      }
    },
    {
      "cell_type": "code",
      "execution_count": null,
      "outputs": [],
      "source": [
        "import pandas as pd\n",
        "import numpy as np\n",
        "import seaborn as sns\n",
        "import matplotlib.pyplot as plt\n",
        "\n",
        "import sklearn"
      ],
      "metadata": {
        "pycharm": {
          "name": "#%%\n"
        },
        "id": "Fo-CYP6xGkGj"
      }
    },
    {
      "cell_type": "code",
      "execution_count": null,
      "outputs": [
        {
          "output_type": "stream",
          "name": "stdout",
          "text": [
            "Dataset Sizes:  (150, 4) (150,)\n"
          ]
        }
      ],
      "source": [
        "from sklearn.datasets import load_iris\n",
        "\n",
        "digits = load_iris()\n",
        "X_digits, Y_digits = digits.data, digits.target\n",
        "print('Dataset Sizes: ', X_digits.shape, Y_digits.shape)\n"
      ],
      "metadata": {
        "pycharm": {
          "name": "#%%\n"
        },
        "colab": {
          "base_uri": "https://localhost:8080/"
        },
        "id": "uBsaTnnhGkGl",
        "outputId": "ca5500fc-5f6f-49a9-cd5b-4bb431f1c8e6"
      }
    },
    {
      "cell_type": "code",
      "execution_count": null,
      "outputs": [
        {
          "output_type": "stream",
          "name": "stdout",
          "text": [
            "Train/Test Sizes:  (120, 4) (30, 4) (120,) (30,)\n"
          ]
        }
      ],
      "source": [
        "from sklearn.model_selection import train_test_split\n",
        "\n",
        "X_train, X_test, Y_train, Y_test = train_test_split(X_digits, Y_digits, train_size=0.80, test_size=0.20, stratify=Y_digits, random_state=123)\n",
        "print('Train/Test Sizes: ', X_train.shape, X_test.shape, Y_train.shape, Y_test.shape)"
      ],
      "metadata": {
        "pycharm": {
          "name": "#%%\n"
        },
        "colab": {
          "base_uri": "https://localhost:8080/"
        },
        "id": "xKnyEHyzGkGl",
        "outputId": "f0123d3f-27c2-49ca-cb62-6637d121dba8"
      }
    },
    {
      "cell_type": "code",
      "execution_count": null,
      "outputs": [
        {
          "output_type": "stream",
          "name": "stderr",
          "text": [
            "/usr/local/lib/python3.10/dist-packages/sklearn/neural_network/_multilayer_perceptron.py:686: ConvergenceWarning: Stochastic Optimizer: Maximum iterations (200) reached and the optimization hasn't converged yet.\n",
            "  warnings.warn(\n"
          ]
        },
        {
          "output_type": "execute_result",
          "data": {
            "text/plain": [
              "MLPClassifier(random_state=123)"
            ],
            "text/html": [
              "<style>#sk-container-id-3 {color: black;background-color: white;}#sk-container-id-3 pre{padding: 0;}#sk-container-id-3 div.sk-toggleable {background-color: white;}#sk-container-id-3 label.sk-toggleable__label {cursor: pointer;display: block;width: 100%;margin-bottom: 0;padding: 0.3em;box-sizing: border-box;text-align: center;}#sk-container-id-3 label.sk-toggleable__label-arrow:before {content: \"▸\";float: left;margin-right: 0.25em;color: #696969;}#sk-container-id-3 label.sk-toggleable__label-arrow:hover:before {color: black;}#sk-container-id-3 div.sk-estimator:hover label.sk-toggleable__label-arrow:before {color: black;}#sk-container-id-3 div.sk-toggleable__content {max-height: 0;max-width: 0;overflow: hidden;text-align: left;background-color: #f0f8ff;}#sk-container-id-3 div.sk-toggleable__content pre {margin: 0.2em;color: black;border-radius: 0.25em;background-color: #f0f8ff;}#sk-container-id-3 input.sk-toggleable__control:checked~div.sk-toggleable__content {max-height: 200px;max-width: 100%;overflow: auto;}#sk-container-id-3 input.sk-toggleable__control:checked~label.sk-toggleable__label-arrow:before {content: \"▾\";}#sk-container-id-3 div.sk-estimator input.sk-toggleable__control:checked~label.sk-toggleable__label {background-color: #d4ebff;}#sk-container-id-3 div.sk-label input.sk-toggleable__control:checked~label.sk-toggleable__label {background-color: #d4ebff;}#sk-container-id-3 input.sk-hidden--visually {border: 0;clip: rect(1px 1px 1px 1px);clip: rect(1px, 1px, 1px, 1px);height: 1px;margin: -1px;overflow: hidden;padding: 0;position: absolute;width: 1px;}#sk-container-id-3 div.sk-estimator {font-family: monospace;background-color: #f0f8ff;border: 1px dotted black;border-radius: 0.25em;box-sizing: border-box;margin-bottom: 0.5em;}#sk-container-id-3 div.sk-estimator:hover {background-color: #d4ebff;}#sk-container-id-3 div.sk-parallel-item::after {content: \"\";width: 100%;border-bottom: 1px solid gray;flex-grow: 1;}#sk-container-id-3 div.sk-label:hover label.sk-toggleable__label {background-color: #d4ebff;}#sk-container-id-3 div.sk-serial::before {content: \"\";position: absolute;border-left: 1px solid gray;box-sizing: border-box;top: 0;bottom: 0;left: 50%;z-index: 0;}#sk-container-id-3 div.sk-serial {display: flex;flex-direction: column;align-items: center;background-color: white;padding-right: 0.2em;padding-left: 0.2em;position: relative;}#sk-container-id-3 div.sk-item {position: relative;z-index: 1;}#sk-container-id-3 div.sk-parallel {display: flex;align-items: stretch;justify-content: center;background-color: white;position: relative;}#sk-container-id-3 div.sk-item::before, #sk-container-id-3 div.sk-parallel-item::before {content: \"\";position: absolute;border-left: 1px solid gray;box-sizing: border-box;top: 0;bottom: 0;left: 50%;z-index: -1;}#sk-container-id-3 div.sk-parallel-item {display: flex;flex-direction: column;z-index: 1;position: relative;background-color: white;}#sk-container-id-3 div.sk-parallel-item:first-child::after {align-self: flex-end;width: 50%;}#sk-container-id-3 div.sk-parallel-item:last-child::after {align-self: flex-start;width: 50%;}#sk-container-id-3 div.sk-parallel-item:only-child::after {width: 0;}#sk-container-id-3 div.sk-dashed-wrapped {border: 1px dashed gray;margin: 0 0.4em 0.5em 0.4em;box-sizing: border-box;padding-bottom: 0.4em;background-color: white;}#sk-container-id-3 div.sk-label label {font-family: monospace;font-weight: bold;display: inline-block;line-height: 1.2em;}#sk-container-id-3 div.sk-label-container {text-align: center;}#sk-container-id-3 div.sk-container {/* jupyter's `normalize.less` sets `[hidden] { display: none; }` but bootstrap.min.css set `[hidden] { display: none !important; }` so we also need the `!important` here to be able to override the default hidden behavior on the sphinx rendered scikit-learn.org. See: https://github.com/scikit-learn/scikit-learn/issues/21755 */display: inline-block !important;position: relative;}#sk-container-id-3 div.sk-text-repr-fallback {display: none;}</style><div id=\"sk-container-id-3\" class=\"sk-top-container\"><div class=\"sk-text-repr-fallback\"><pre>MLPClassifier(random_state=123)</pre><b>In a Jupyter environment, please rerun this cell to show the HTML representation or trust the notebook. <br />On GitHub, the HTML representation is unable to render, please try loading this page with nbviewer.org.</b></div><div class=\"sk-container\" hidden><div class=\"sk-item\"><div class=\"sk-estimator sk-toggleable\"><input class=\"sk-toggleable__control sk-hidden--visually\" id=\"sk-estimator-id-3\" type=\"checkbox\" checked><label for=\"sk-estimator-id-3\" class=\"sk-toggleable__label sk-toggleable__label-arrow\">MLPClassifier</label><div class=\"sk-toggleable__content\"><pre>MLPClassifier(random_state=123)</pre></div></div></div></div></div>"
            ]
          },
          "metadata": {},
          "execution_count": 45
        }
      ],
      "source": [
        "# Для начала натренируем модель MLPClassifier с параметрами по умолчанию\n",
        "# для тренировочных данных.\n",
        "\n",
        "from sklearn.neural_network import MLPClassifier\n",
        "\n",
        "mlp_classifier = MLPClassifier(random_state=123)\n",
        "mlp_classifier.fit(X_train, Y_train)"
      ],
      "metadata": {
        "pycharm": {
          "name": "#%%\n"
        },
        "colab": {
          "base_uri": "https://localhost:8080/",
          "height": 109
        },
        "id": "sO0LIWj7GkGm",
        "outputId": "6cc81a5e-5a58-4e56-929d-60b184cc6db1"
      }
    },
    {
      "cell_type": "code",
      "execution_count": null,
      "outputs": [
        {
          "output_type": "stream",
          "name": "stdout",
          "text": [
            "[1 0 2 2 0 0 2 2 2 0 0 1 2 1 2]\n",
            "[1 0 2 2 0 0 2 1 2 0 0 1 2 1 2]\n",
            "Test Accuracy: 0.933\n",
            "Training Accuracy: 0.983\n"
          ]
        }
      ],
      "source": [
        "Y_preds = mlp_classifier.predict(X_test)\n",
        "\n",
        "print(Y_preds[:15])\n",
        "print(Y_test[:15])\n",
        "# метод score для оценки точноси моделей классификации\n",
        "print('Test Accuracy: %.3f'%mlp_classifier.score(X_test, Y_test))\n",
        "\n",
        "print('Training Accuracy: %.3f'%mlp_classifier.score(X_train, Y_train))"
      ],
      "metadata": {
        "pycharm": {
          "name": "#%%\n"
        },
        "colab": {
          "base_uri": "https://localhost:8080/"
        },
        "id": "eG60AifzGkGm",
        "outputId": "b00cb954-5077-47e4-9ff7-aa06e207868d"
      }
    },
    {
      "cell_type": "code",
      "execution_count": null,
      "outputs": [
        {
          "output_type": "display_data",
          "data": {
            "text/plain": [
              "<Figure size 300x300 with 2 Axes>"
            ],
            "image/png": "[encoded data removed]"
          },
          "metadata": {}
        }
      ],
      "source": [
        "# Cоздадим метод plot_confusion_matrix(), который принимает исходные и\n",
        "# предсказанные метки данных по модели. Затем он строит матрицу путаницы,\n",
        "# используя matplotlib\n",
        "\n",
        "from sklearn.metrics import confusion_matrix\n",
        "\n",
        "def plot_confusion_matrix(Y_test, Y_preds):\n",
        "    conf_mat = confusion_matrix(Y_test, Y_preds)\n",
        "    #print(conf_mat)\n",
        "    fig = plt.figure(figsize=(3,3))\n",
        "    plt.matshow(conf_mat, cmap=plt.cm.Blues, fignum=1)\n",
        "    plt.yticks(range(3), range(3))\n",
        "    plt.xticks(range(3), range(3))\n",
        "    plt.colorbar();\n",
        "    for i in range(3):\n",
        "        for j in range(3):\n",
        "            plt.text(i-0.2, j+0.1, str(conf_mat[j, i]), color='tab:red')\n",
        "\n",
        "plot_confusion_matrix(Y_test, mlp_classifier.predict(X_test))"
      ],
      "metadata": {
        "pycharm": {
          "name": "#%%\n"
        },
        "colab": {
          "base_uri": "https://localhost:8080/",
          "height": 283
        },
        "id": "40_MD9cQGkGm",
        "outputId": "c53da6dc-58b1-4617-e852-07db4e184716"
      }
    },
    {
      "cell_type": "markdown",
      "source": [
        "### Регрессия"
      ],
      "metadata": {
        "collapsed": false,
        "id": "Ry3CYoWUGkGm"
      }
    },
    {
      "cell_type": "code",
      "execution_count": null,
      "outputs": [
        {
          "output_type": "stream",
          "name": "stdout",
          "text": [
            "\"salary\" Dataset Sizes: (30, 1) (30,)\n",
            "Train/Test Sizes :  (24, 1) (6, 1) (24,) (6,)\n",
            "[ 55265.2045971  126554.5591937   52335.80522199 116782.59147446\n",
            "  55265.2045971  117759.05793283]\n",
            "[ 54445. 121872.  56642. 116969.  64445. 112635.]\n",
            "Test R*2 Score : 0.971\n",
            "Training R*2 Score : 0.948\n"
          ]
        }
      ],
      "source": [
        "url=r'https://raw.githubusercontent.com/AnnaShestova/salary-years-simple-linear-regression/master/Salary_Data.csv'\n",
        "salary = pd.read_csv(url)\n",
        "\n",
        "X_salary = salary.iloc[:, :-1].values\n",
        "Y_salary = salary.iloc[:, 1].values\n",
        "print('\"salary\" Dataset Sizes:',X_salary.shape, Y_salary.shape)\n",
        "\n",
        "X_train, X_test, Y_train, Y_test = train_test_split(X_salary, Y_salary, train_size=0.80, test_size=0.20, random_state=123)\n",
        "print('Train/Test Sizes : ', X_train.shape, X_test. shape, Y_train.shape, Y_test.shape)\n",
        "\n",
        "mlp_regressor = MLPRegressor(random_state=123, max_iter=50000)\n",
        "mlp_regressor.fit(X_train, Y_train)\n",
        "\n",
        "Y_preds = mlp_regressor.predict(X_test)\n",
        "\n",
        "print(Y_preds[:10])\n",
        "print(Y_test[:10])\n",
        "print('Test R*2 Score : %.3f'%mlp_regressor.score(X_test, Y_test))\n",
        "print('Training R*2 Score : %.3f'%mlp_regressor.score(X_train, Y_train))"
      ],
      "metadata": {
        "pycharm": {
          "name": "#%%\n"
        },
        "colab": {
          "base_uri": "https://localhost:8080/"
        },
        "id": "fJnjvE22GkGm",
        "outputId": "a5541b77-8b27-4d96-9dbd-4502eaa26810"
      }
    },
    {
      "cell_type": "code",
      "execution_count": null,
      "outputs": [
        {
          "output_type": "stream",
          "name": "stdout",
          "text": [
            "Loss : 16873681.689960103\n",
            "Number of Coefs :  2\n",
            "Number of Iterations for Which Estimator Ran : 30344\n",
            "Name of Output Layer Activation Function : identity\n"
          ]
        }
      ],
      "source": [
        "print(\"Loss :\", mlp_regressor.loss_)\n",
        "print(\"Number of Coefs : \", len(mlp_regressor.coefs_))\n",
        "print(\"Number of Iterations for Which Estimator Ran :\", mlp_regressor.n_iter_)\n",
        "print(\"Name of Output Layer Activation Function :\",mlp_regressor.out_activation_)"
      ],
      "metadata": {
        "pycharm": {
          "name": "#%%\n"
        },
        "colab": {
          "base_uri": "https://localhost:8080/"
        },
        "id": "32QpeoumGkGm",
        "outputId": "c8066547-9a30-4d30-9cac-e23f9689560b"
      }
    }
  ],
  "metadata": {
    "kernelspec": {
      "display_name": "Python 3",
      "language": "python",
      "name": "python3"
    },
    "language_info": {
      "codemirror_mode": {
        "name": "ipython",
        "version": 2
      },
      "file_extension": ".py",
      "mimetype": "text/x-python",
      "name": "python",
      "nbconvert_exporter": "python",
      "pygments_lexer": "ipython2",
      "version": "2.7.6"
    },
    "colab": {
      "provenance": []
    }
  },
  "nbformat": 4,
  "nbformat_minor": 0
}