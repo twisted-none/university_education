{
 "cells": [
  {
   "cell_type": "markdown",
   "metadata": {},
   "source": [
    "1.3.1"
   ]
  },
  {
   "cell_type": "code",
   "execution_count": 1,
   "metadata": {},
   "outputs": [
    {
     "name": "stdout",
     "output_type": "stream",
     "text": [
      "[0, 1, 0, 1, 0, 1, 0, 1]\n",
      "[1, 0, 1, 0, 1, 0, 1, 0]\n",
      "[0, 1, 0, 1, 0, 1, 0, 1]\n",
      "[1, 0, 1, 0, 1, 0, 1, 0]\n",
      "[0, 1, 0, 1, 0, 1, 0, 1]\n",
      "[1, 0, 1, 0, 1, 0, 1, 0]\n",
      "[0, 1, 0, 1, 0, 1, 0, 1]\n",
      "[1, 0, 1, 0, 1, 0, 1, 0]\n"
     ]
    }
   ],
   "source": [
    "def create_chessboard():\n",
    "    chessboard = []\n",
    "    for i in range(8):\n",
    "        row = []\n",
    "        for j in range(8):\n",
    "            row.append((i + j) % 2)\n",
    "        chessboard.append(row)\n",
    "    return chessboard\n",
    "chessboard = create_chessboard()\n",
    "for row in chessboard:\n",
    "    print(row)"
   ]
  },
  {
   "cell_type": "markdown",
   "metadata": {},
   "source": [
    "1.3.2"
   ]
  },
  {
   "cell_type": "code",
   "execution_count": 18,
   "metadata": {},
   "outputs": [
    {
     "name": "stdout",
     "output_type": "stream",
     "text": [
      "[[0. 1. 2. 3. 4.]\n",
      " [0. 1. 2. 3. 4.]\n",
      " [0. 1. 2. 3. 4.]\n",
      " [0. 1. 2. 3. 4.]\n",
      " [0. 1. 2. 3. 4.]]\n"
     ]
    }
   ],
   "source": [
    "import numpy as np\n",
    "matrix = np.zeros((5,5))\n",
    "matrix += np.arange(5)\n",
    "print(matrix)"
   ]
  },
  {
   "cell_type": "markdown",
   "metadata": {},
   "source": [
    "1.3.3"
   ]
  },
  {
   "cell_type": "code",
   "execution_count": 3,
   "metadata": {},
   "outputs": [
    {
     "name": "stdout",
     "output_type": "stream",
     "text": [
      "[[[0.29394758 0.1185399  0.48118931]\n",
      "  [0.15695049 0.42886561 0.81202758]\n",
      "  [0.84720565 0.44535442 0.32064405]]\n",
      "\n",
      " [[0.26109532 0.20102721 0.01224605]\n",
      "  [0.63150767 0.31686148 0.84636763]\n",
      "  [0.92750631 0.93147867 0.5825584 ]]\n",
      "\n",
      " [[0.18445051 0.37643856 0.39682083]\n",
      "  [0.14272939 0.39398489 0.69445084]\n",
      "  [0.78505599 0.31647746 0.18507891]]]\n"
     ]
    }
   ],
   "source": [
    "import numpy as np\n",
    "array = np.random.rand(3, 3, 3)\n",
    "print(array)"
   ]
  },
  {
   "cell_type": "markdown",
   "metadata": {},
   "source": [
    "1.3.4"
   ]
  },
  {
   "cell_type": "code",
   "execution_count": 21,
   "metadata": {},
   "outputs": [
    {
     "name": "stdout",
     "output_type": "stream",
     "text": [
      "[[1. 1. 1. 1. 1. 1.]\n",
      " [1. 0. 0. 0. 0. 1.]\n",
      " [1. 0. 0. 0. 0. 1.]\n",
      " [1. 0. 0. 0. 0. 1.]\n",
      " [1. 0. 0. 0. 0. 1.]\n",
      " [1. 1. 1. 1. 1. 1.]]\n"
     ]
    }
   ],
   "source": [
    "import numpy as np\n",
    "n = 6\n",
    "matrix = np.zeros((n, n))\n",
    "matrix[0, :] = 1\n",
    "matrix[-1, :] = 1\n",
    "matrix[:, 0] = 1\n",
    "matrix[:, -1] = 1\n",
    "print(matrix)"
   ]
  },
  {
   "cell_type": "markdown",
   "metadata": {},
   "source": [
    "1.3.5"
   ]
  },
  {
   "cell_type": "code",
   "execution_count": 5,
   "metadata": {},
   "outputs": [
    {
     "name": "stdout",
     "output_type": "stream",
     "text": [
      "Исходный массив: [37 47 22 56 84 46 53 40 28 29]\n",
      "Отсортированный массив: [84 56 53 47 46 40 37 29 28 22]\n"
     ]
    }
   ],
   "source": [
    "import numpy as np\n",
    "array = np.random.randint(1, 100, size=10)\n",
    "sorted_array = np.sort(array)[::-1]\n",
    "print(\"Исходный массив:\", array)\n",
    "print(\"Отсортированный массив:\", sorted_array)"
   ]
  },
  {
   "cell_type": "markdown",
   "metadata": {},
   "source": [
    "1.3.6"
   ]
  },
  {
   "cell_type": "code",
   "execution_count": 22,
   "metadata": {},
   "outputs": [
    {
     "name": "stdout",
     "output_type": "stream",
     "text": [
      "Матрица:\n",
      " [[0.45366799 0.34815941 0.10362572 0.98869745 0.02766635 0.46491697]\n",
      " [0.16969579 0.5876713  0.72825998 0.22680304 0.15640186 0.58920678]\n",
      " [0.00686912 0.17923065 0.98039862 0.89455019 0.34730979 0.94703616]\n",
      " [0.00590969 0.74393249 0.37998024 0.23253977 0.77647454 0.68010938]\n",
      " [0.86382953 0.1124139  0.55730206 0.77973271 0.69513867 0.46425372]]\n",
      "Форма: (5, 6)\n",
      "Размер: 30\n",
      "Размерность: 2\n"
     ]
    }
   ],
   "source": [
    "import numpy as np\n",
    "matrix = np.random.rand(5, 6)\n",
    "print(\"Матрица:\\n\", matrix)\n",
    "print(\"Форма:\", matrix.shape)\n",
    "print(\"Размер:\", matrix.size)\n",
    "print(\"Размерность:\", matrix.ndim)"
   ]
  },
  {
   "cell_type": "markdown",
   "metadata": {},
   "source": [
    "2.3.1"
   ]
  },
  {
   "cell_type": "code",
   "execution_count": 23,
   "metadata": {},
   "outputs": [
    {
     "name": "stdout",
     "output_type": "stream",
     "text": [
      "Евклидово расстояние: 5.196152422706632\n"
     ]
    }
   ],
   "source": [
    "import pandas as pd\n",
    "import numpy as np\n",
    "a = pd.Series([1, 2, 3])\n",
    "b = pd.Series([4, 5, 6])\n",
    "distance = np.sqrt(np.sum((a - b) ** 2))\n",
    "print(\"Евклидово расстояние:\", distance)"
   ]
  },
  {
   "cell_type": "markdown",
   "metadata": {},
   "source": [
    "2.3.2"
   ]
  },
  {
   "cell_type": "code",
   "execution_count": 9,
   "metadata": {},
   "outputs": [
    {
     "name": "stdout",
     "output_type": "stream",
     "text": [
      "   stream     slope elevation vegetation\n",
      "0   False     steep      high  chapparal\n",
      "1    True  moderate       low   riparian\n",
      "2    True     steep    medium   riparian\n",
      "3   False     steep    medium  chapparal\n",
      "4   False      flat      high    conifer\n",
      "\n",
      "--------------------------------------------------------------------------------\n",
      "\n",
      "<class 'pandas.core.frame.DataFrame'>\n",
      "RangeIndex: 7 entries, 0 to 6\n",
      "Data columns (total 4 columns):\n",
      " #   Column      Non-Null Count  Dtype \n",
      "---  ------      --------------  ----- \n",
      " 0   stream      7 non-null      bool  \n",
      " 1   slope       7 non-null      object\n",
      " 2   elevation   7 non-null      object\n",
      " 3   vegetation  7 non-null      object\n",
      "dtypes: bool(1), object(3)\n",
      "memory usage: 307.0+ bytes\n",
      "None\n",
      "\n",
      "--------------------------------------------------------------------------------\n",
      "\n",
      "       stream  slope elevation vegetation\n",
      "count       7      7         7          7\n",
      "unique      2      3         4          3\n",
      "top      True  steep      high  chapparal\n",
      "freq        4      5         3          3\n"
     ]
    }
   ],
   "source": [
    "import pandas as pd\n",
    "\n",
    "file_path = \"data.csv\"\n",
    "\n",
    "# Чтение CSV-файла и создание фрейма данных\n",
    "df = pd.read_csv(file_path)\n",
    "\n",
    "# Вывод первых нескольких строк фрейма данных\n",
    "print(df.head())\n",
    "\n",
    "print()\n",
    "print('-' * 80)\n",
    "print()\n",
    "\n",
    "# Вывод информации о фрейме данных\n",
    "print(df.info())\n",
    "\n",
    "print()\n",
    "print('-' * 80)\n",
    "print()\n",
    "\n",
    "\n",
    "# Вывод статистического описания числовых столбцов\n",
    "print(df.describe())"
   ]
  },
  {
   "cell_type": "markdown",
   "metadata": {},
   "source": [
    "2.3.3"
   ]
  },
  {
   "cell_type": "code",
   "execution_count": 12,
   "metadata": {},
   "outputs": [
    {
     "name": "stdout",
     "output_type": "stream",
     "text": [
      "1. Общая информация о датасете:\n",
      "Количество записей: 7\n",
      "Количество столбцов: 4\n",
      "\n",
      "--------------------------------------------------------------------------------\n",
      "\n",
      "\n",
      "2. Распределение по типам склона (slope):\n",
      "slope\n",
      "steep       5\n",
      "moderate    1\n",
      "flat        1\n",
      "Name: count, dtype: int64\n",
      "\n",
      "--------------------------------------------------------------------------------\n",
      "\n",
      "\n",
      "3. Распределение по высоте (elevation):\n",
      "elevation\n",
      "high       3\n",
      "medium     2\n",
      "low        1\n",
      "highest    1\n",
      "Name: count, dtype: int64\n",
      "\n",
      "--------------------------------------------------------------------------------\n",
      "\n",
      "\n",
      "4. Распределение по типам растительности (vegetation):\n",
      "vegetation\n",
      "chapparal    3\n",
      "riparian     2\n",
      "conifer      2\n",
      "Name: count, dtype: int64\n",
      "\n",
      "--------------------------------------------------------------------------------\n",
      "\n",
      "\n",
      "5. Статистика по наличию потоков (stream):\n",
      "stream\n",
      "True     4\n",
      "False    3\n",
      "Name: count, dtype: int64\n",
      "Процент территорий с потоками: 57.14%\n",
      "\n",
      "--------------------------------------------------------------------------------\n",
      "\n",
      "\n",
      "6. Связь между высотой и типом растительности:\n",
      "vegetation  chapparal  conifer  riparian\n",
      "elevation                               \n",
      "high                2        1         0\n",
      "highest             0        1         0\n",
      "low                 0        0         1\n",
      "medium              1        0         1\n",
      "\n",
      "--------------------------------------------------------------------------------\n",
      "\n",
      "\n",
      "7. Связь между уклоном и наличием потока:\n",
      "stream    False  True \n",
      "slope                 \n",
      "flat          1      0\n",
      "moderate      0      1\n",
      "steep         2      3\n",
      "\n",
      "--------------------------------------------------------------------------------\n",
      "\n",
      "\n",
      "8. Проверка на пропущенные значения:\n",
      "stream        0\n",
      "slope         0\n",
      "elevation     0\n",
      "vegetation    0\n",
      "dtype: int64\n"
     ]
    }
   ],
   "source": [
    "import pandas as pd\n",
    "\n",
    "file_path = \"data.csv\"\n",
    "\n",
    "# Загрузка данных\n",
    "df = pd.read_csv(file_path)\n",
    "\n",
    "# 1. Базовый анализ данных\n",
    "print(\"1. Общая информация о датасете:\")\n",
    "print(f\"Количество записей: {len(df)}\")\n",
    "print(f\"Количество столбцов: {len(df.columns)}\")\n",
    "\n",
    "print()\n",
    "print('-' * 80)\n",
    "print()\n",
    "\n",
    "# 2. Анализ категориальных данных\n",
    "print(\"\\n2. Распределение по типам склона (slope):\")\n",
    "print(df['slope'].value_counts())\n",
    "\n",
    "print()\n",
    "print('-' * 80)\n",
    "print()\n",
    "\n",
    "print(\"\\n3. Распределение по высоте (elevation):\")\n",
    "print(df['elevation'].value_counts())\n",
    "\n",
    "print()\n",
    "print('-' * 80)\n",
    "print()\n",
    "\n",
    "print(\"\\n4. Распределение по типам растительности (vegetation):\")\n",
    "print(df['vegetation'].value_counts())\n",
    "\n",
    "print()\n",
    "print('-' * 80)\n",
    "print()\n",
    "\n",
    "# 3. Анализ наличия потоков\n",
    "print(\"\\n5. Статистика по наличию потоков (stream):\")\n",
    "print(df['stream'].value_counts())\n",
    "print(f\"Процент территорий с потоками: {(df['stream'].sum() / len(df)) * 100:.2f}%\")\n",
    "\n",
    "print()\n",
    "print('-' * 80)\n",
    "print()\n",
    "\n",
    "# 4. Перекрестный анализ\n",
    "print(\"\\n6. Связь между высотой и типом растительности:\")\n",
    "print(pd.crosstab(df['elevation'], df['vegetation']))\n",
    "\n",
    "print()\n",
    "print('-' * 80)\n",
    "print()\n",
    "\n",
    "print(\"\\n7. Связь между уклоном и наличием потока:\")\n",
    "print(pd.crosstab(df['slope'], df['stream']))\n",
    "\n",
    "print()\n",
    "print('-' * 80)\n",
    "print()\n",
    "\n",
    "# 5. Дополнительная информация о пропущенных значениях\n",
    "print(\"\\n8. Проверка на пропущенные значения:\")\n",
    "print(df.isnull().sum())"
   ]
  },
  {
   "cell_type": "markdown",
   "metadata": {},
   "source": [
    "3.3.2"
   ]
  },
  {
   "cell_type": "code",
   "execution_count": 14,
   "metadata": {},
   "outputs": [
    {
     "name": "stdout",
     "output_type": "stream",
     "text": [
      "   sepal_length_cm  sepal_length_normalized  sepal_width_cm  \\\n",
      "0              5.1                 0.222222             3.5   \n",
      "1              4.9                 0.166667             3.0   \n",
      "2              4.7                 0.111111             3.2   \n",
      "3              4.6                 0.083333             3.1   \n",
      "4              5.0                 0.194444             3.6   \n",
      "\n",
      "   sepal_width_normalized  \n",
      "0                1.032057  \n",
      "1               -0.124958  \n",
      "2                0.337848  \n",
      "3                0.106445  \n",
      "4                1.263460  \n",
      "\n",
      "Статистика нормализованных признаков:\n",
      "       sepal_length_normalized  sepal_width_normalized\n",
      "count               150.000000            1.500000e+02\n",
      "mean                  0.428704           -6.631732e-16\n",
      "std                   0.230018            1.003350e+00\n",
      "min                   0.000000           -2.438987e+00\n",
      "25%                   0.222222           -5.877635e-01\n",
      "50%                   0.416667           -1.249576e-01\n",
      "75%                   0.583333            5.692513e-01\n",
      "max                   1.000000            3.114684e+00\n"
     ]
    }
   ],
   "source": [
    "import pandas as pd\n",
    "from sklearn.preprocessing import MinMaxScaler, StandardScaler\n",
    "\n",
    "# Загрузка датасета Iris\n",
    "url = \"https://archive.ics.uci.edu/ml/machine-learning-databases/iris/iris.data\"\n",
    "column_names = ['sepal_length_cm', 'sepal_width_cm', 'petal_length_cm', 'petal_width_cm', 'class']\n",
    "df = pd.read_csv(url, header=None, names=column_names)\n",
    "\n",
    "# Создание объектов для нормализации\n",
    "min_max_scaler = MinMaxScaler()\n",
    "standard_scaler = StandardScaler()\n",
    "\n",
    "# Минимаксное преобразование для sepal_length_cm\n",
    "df['sepal_length_normalized'] = min_max_scaler.fit_transform(df[['sepal_length_cm']])\n",
    "\n",
    "# Z-масштабирование для sepal_width_cm\n",
    "df['sepal_width_normalized'] = standard_scaler.fit_transform(df[['sepal_width_cm']])\n",
    "\n",
    "# Вывод первых нескольких строк датасета для проверки\n",
    "print(df[['sepal_length_cm', 'sepal_length_normalized', 'sepal_width_cm', 'sepal_width_normalized']].head())\n",
    "\n",
    "# Вывод статистики нормализованных признаков\n",
    "print(\"\\nСтатистика нормализованных признаков:\")\n",
    "print(df[['sepal_length_normalized', 'sepal_width_normalized']].describe())\n"
   ]
  }
 ],
 "metadata": {
  "kernelspec": {
   "display_name": "Python 3",
   "language": "python",
   "name": "python3"
  },
  "language_info": {
   "codemirror_mode": {
    "name": "ipython",
    "version": 3
   },
   "file_extension": ".py",
   "mimetype": "text/x-python",
   "name": "python",
   "nbconvert_exporter": "python",
   "pygments_lexer": "ipython3",
   "version": "3.11.5"
  }
 },
 "nbformat": 4,
 "nbformat_minor": 2
}
